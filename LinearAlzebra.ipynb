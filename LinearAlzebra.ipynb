{
  "nbformat": 4,
  "nbformat_minor": 0,
  "metadata": {
    "colab": {
      "provenance": [],
      "authorship_tag": "ABX9TyN8APThj4fpogwgJa2ChXdp",
      "include_colab_link": true
    },
    "kernelspec": {
      "name": "python3",
      "display_name": "Python 3"
    },
    "language_info": {
      "name": "python"
    }
  },
  "cells": [
    {
      "cell_type": "markdown",
      "metadata": {
        "id": "view-in-github",
        "colab_type": "text"
      },
      "source": [
        "<a href=\"https://colab.research.google.com/github/preetheshkumar/msrp/blob/main/LinearAlzebra.ipynb\" target=\"_parent\"><img src=\"https://colab.research.google.com/assets/colab-badge.svg\" alt=\"Open In Colab\"/></a>"
      ]
    },
    {
      "cell_type": "markdown",
      "source": [
        "importing the libraries"
      ],
      "metadata": {
        "id": "9GMNF71d5bzj"
      }
    },
    {
      "cell_type": "code",
      "execution_count": null,
      "metadata": {
        "id": "8WpyeWkizF5H"
      },
      "outputs": [],
      "source": [
        "import numpy as np"
      ]
    },
    {
      "cell_type": "markdown",
      "source": [],
      "metadata": {
        "id": "RnclekOm5gq6"
      }
    },
    {
      "cell_type": "code",
      "source": [
        "a = np.array([[1],\n",
        "              [3],\n",
        "              [7],\n",
        "              [2]])\n",
        "print(\"a =\\n\", a)\n",
        "\n",
        "A = np.array([[1, 3, 7, 2],\n",
        "[5, 8, -9, 0],\n",
        "[6, -7, 11, 12]])\n",
        "print(\"\\nA =\\n\", A)\n",
        "     "
      ],
      "metadata": {
        "colab": {
          "base_uri": "https://localhost:8080/"
        },
        "id": "EdXS0esjzya6",
        "outputId": "3bd2e288-cbe3-41aa-fbba-e17e1a5f2063"
      },
      "execution_count": null,
      "outputs": [
        {
          "output_type": "stream",
          "name": "stdout",
          "text": [
            "a =\n",
            " [[1]\n",
            " [3]\n",
            " [7]\n",
            " [2]]\n",
            "\n",
            "A =\n",
            " [[ 1  3  7  2]\n",
            " [ 5  8 -9  0]\n",
            " [ 6 -7 11 12]]\n"
          ]
        }
      ]
    },
    {
      "cell_type": "markdown",
      "source": [
        "matrix Addition,Subtraction,Multiplication"
      ],
      "metadata": {
        "id": "LKMmewmg5rTC"
      }
    },
    {
      "cell_type": "code",
      "source": [
        "A = np.matrix([[0, 1],\n",
        "              [-2, -3]])\n",
        "B = np.matrix([[1, 0],\n",
        "              [3, -2]])\n",
        "C = A + B\n",
        "print(\"A+B =\\n\", C)\n",
        "\n",
        "C = A - B\n",
        "print(\"\\nA-B =\\n\", C)\n",
        "\n",
        "C = A * B\n",
        "print(\"\\nA*B =\\n\", C)# Not Working!, only elementwise Multiplication!\n",
        "\n",
        "#Working Alternative 1\n",
        "C = A.dot(B)\n",
        "print(\"\\nA*B =\\n\", C)\n",
        "\n",
        "#Working Alternative 2\n",
        "C = np.dot(A,B)\n",
        "print(\"\\nA*B =\\n\", C)\n",
        "\n",
        "#Working Alternative 3\n",
        "C = np.mat(A) * np.mat(B)\n",
        "print(\"\\nA*B =\\n\", C)\n",
        "\n",
        "#Working Alternative 4\n",
        "C = np.matmul(A,B)\n",
        "print(\"\\nA*B =\\n\", C)\n"
      ],
      "metadata": {
        "colab": {
          "base_uri": "https://localhost:8080/"
        },
        "id": "zpieVTXb0Efj",
        "outputId": "9f191a16-97dc-46ec-dc38-352e895c2a4d"
      },
      "execution_count": null,
      "outputs": [
        {
          "output_type": "stream",
          "name": "stdout",
          "text": [
            "A+B =\n",
            " [[ 1  1]\n",
            " [ 1 -5]]\n",
            "\n",
            "A-B =\n",
            " [[-1  1]\n",
            " [-5 -1]]\n",
            "\n",
            "A*B =\n",
            " [[  3  -2]\n",
            " [-11   6]]\n",
            "\n",
            "A*B =\n",
            " [[  3  -2]\n",
            " [-11   6]]\n",
            "\n",
            "A*B =\n",
            " [[  3  -2]\n",
            " [-11   6]]\n",
            "\n",
            "A*B =\n",
            " [[  3  -2]\n",
            " [-11   6]]\n",
            "\n",
            "A*B =\n",
            " [[  3  -2]\n",
            " [-11   6]]\n"
          ]
        }
      ]
    },
    {
      "cell_type": "markdown",
      "source": [
        "Matrix Multiplication"
      ],
      "metadata": {
        "id": "hkmBzPWH58MS"
      }
    },
    {
      "cell_type": "code",
      "source": [
        "A = np.array([[1, 5, 3],\n",
        "              [4, 6, 6],\n",
        "              [3, 8, 9]])\n",
        "\n",
        "B = np.array([[1, 5, 3, 4],\n",
        "              [4, 5, 7, 8],\n",
        "              [7, 8, 9, 3]])\n",
        "\n",
        "C = np.array([[1],\n",
        "              [4],\n",
        "              [3]])\n",
        "\n",
        "D = np.array([[1, 5, 3]])\n",
        "\n",
        "M = np.matmul(A,B)\n",
        "print(\"M=\\n\", M)\n",
        "#M = np.matmul(B,A) # Not Working!\n",
        "\n",
        "M = np.matmul(A,C)\n",
        "print(\"\\nM=\\n\", M)\n",
        "#M = np.matmul(C,A) # Not Working!\n",
        "\n",
        "M = np.matmul(C,D)\n",
        "print(\"\\nM=\\n\", M)\n",
        "\n",
        "M = np.matmul(D,C)\n",
        "print(\"\\nM=\\n\", M)"
      ],
      "metadata": {
        "colab": {
          "base_uri": "https://localhost:8080/"
        },
        "id": "v6lgv3US1P_k",
        "outputId": "d03bf491-131a-409e-e1db-19bef8e63f30"
      },
      "execution_count": null,
      "outputs": [
        {
          "output_type": "stream",
          "name": "stdout",
          "text": [
            "M=\n",
            " [[ 42  54  65  53]\n",
            " [ 70  98 108  82]\n",
            " [ 98 127 146 103]]\n",
            "\n",
            "M=\n",
            " [[30]\n",
            " [46]\n",
            " [62]]\n",
            "\n",
            "M=\n",
            " [[ 1  5  3]\n",
            " [ 4 20 12]\n",
            " [ 3 15  9]]\n",
            "\n",
            "M=\n",
            " [[30]]\n"
          ]
        }
      ]
    },
    {
      "cell_type": "markdown",
      "source": [
        "Transpose of a Matrix"
      ],
      "metadata": {
        "id": "WE2q8nMq6Co5"
      }
    },
    {
      "cell_type": "code",
      "source": [
        "A = np.array([[1, 3, 7, 2],\n",
        "              [5, 8, -9, 0],\n",
        "              [6, -7, 11, 12]])\n",
        "print(\"A=\\n\"); print(A)\n",
        "Atr = np.transpose(A)\n",
        "print(\"\\nTranspose of A=\"); print(Atr)\n",
        "\n",
        "B = np.array([[1, 5],\n",
        "              [4, 5],\n",
        "              [3, 2],\n",
        "              [7, 8]])\n",
        "print(\"\\nB=\"); print(B)\n",
        "Btr = np.transpose(B)\n",
        "print(\"\\nTranspose of B=\"); print(Btr)\n",
        "     "
      ],
      "metadata": {
        "colab": {
          "base_uri": "https://localhost:8080/"
        },
        "id": "9_9cEm151Qv6",
        "outputId": "d0a70bdb-ebea-41c7-824c-136d3c11a2c6"
      },
      "execution_count": null,
      "outputs": [
        {
          "output_type": "stream",
          "name": "stdout",
          "text": [
            "A=\n",
            "\n",
            "[[ 1  3  7  2]\n",
            " [ 5  8 -9  0]\n",
            " [ 6 -7 11 12]]\n",
            "\n",
            "Transpose of A=\n",
            "[[ 1  5  6]\n",
            " [ 3  8 -7]\n",
            " [ 7 -9 11]\n",
            " [ 2  0 12]]\n",
            "\n",
            "B=\n",
            "[[1 5]\n",
            " [4 5]\n",
            " [3 2]\n",
            " [7 8]]\n",
            "\n",
            "Transpose of B=\n",
            "[[1 4 3 7]\n",
            " [5 5 2 8]]\n"
          ]
        }
      ]
    },
    {
      "cell_type": "markdown",
      "source": [
        "Determinant of Matrix"
      ],
      "metadata": {
        "id": "4t-aip6S6JuG"
      }
    },
    {
      "cell_type": "code",
      "source": [
        "import numpy as np\n",
        "import numpy.linalg as la\n",
        "A = np.array([[1, 2],\n",
        "              [3, 4]])\n",
        "Adet = la.det(A)\n",
        "print(Adet)\n",
        "\n",
        "B = np.array([[-1, 3, 0],\n",
        "              [2, 1, -5],\n",
        "              [1, 4, -2]])\n",
        "Bdet = la.det(B)\n",
        "print(Bdet)"
      ],
      "metadata": {
        "colab": {
          "base_uri": "https://localhost:8080/"
        },
        "id": "uwiNXLO81WA2",
        "outputId": "5e5c03be-2a8d-4316-ad96-eddfb09d79e5"
      },
      "execution_count": null,
      "outputs": [
        {
          "output_type": "stream",
          "name": "stdout",
          "text": [
            "-2.0000000000000004\n",
            "-21.00000000000001\n"
          ]
        }
      ]
    },
    {
      "cell_type": "markdown",
      "source": [
        "Inverse Matrix"
      ],
      "metadata": {
        "id": "7gC4iMML6QrO"
      }
    },
    {
      "cell_type": "code",
      "source": [
        "import numpy as np\n",
        "import numpy.linalg as la\n",
        "A = np.array([[1, 2],\n",
        "              [3, 4]])\n",
        "Ainv = la.inv(A)\n",
        "print(\"Inverse of A =\\n\",Adet)\n",
        "\n",
        "B = np.array([[-1, 3, 0],\n",
        "              [2, 1, -5],\n",
        "              [1, 4, -2]])\n",
        "Binv = la.inv(B)\n",
        "print(\"\\nInverse of B =\\n\",Binv)\n",
        "     "
      ],
      "metadata": {
        "colab": {
          "base_uri": "https://localhost:8080/"
        },
        "id": "FGxiJ4MU1akn",
        "outputId": "8e1e6de7-44a7-49a7-98ec-92edd257ea6c"
      },
      "execution_count": null,
      "outputs": [
        {
          "output_type": "stream",
          "name": "stdout",
          "text": [
            "Inverse of A =\n",
            " -2.0000000000000004\n",
            "\n",
            "Inverse of B =\n",
            " [[-0.85714286 -0.28571429  0.71428571]\n",
            " [ 0.04761905 -0.0952381   0.23809524]\n",
            " [-0.33333333 -0.33333333  0.33333333]]\n"
          ]
        }
      ]
    },
    {
      "cell_type": "markdown",
      "source": [
        "Eigen Value"
      ],
      "metadata": {
        "id": "a99j6enG6ZMe"
      }
    },
    {
      "cell_type": "code",
      "source": [
        "import numpy as np\n",
        "import numpy.linalg as la\n",
        "A = np.array([[0, 1],\n",
        "              [-2, -3]])\n",
        "Aeig, v = la.eig(A)\n",
        "print(\"Eigen value of A =\",Aeig)"
      ],
      "metadata": {
        "colab": {
          "base_uri": "https://localhost:8080/"
        },
        "id": "8Oclfq9S1fSF",
        "outputId": "1ae37511-8fc0-441c-fd31-ff7a61b51ac0"
      },
      "execution_count": null,
      "outputs": [
        {
          "output_type": "stream",
          "name": "stdout",
          "text": [
            "Eigen value of A = [-1. -2.]\n"
          ]
        }
      ]
    },
    {
      "cell_type": "markdown",
      "source": [
        "Matrices Rules\n",
        "proving AB =/"
      ],
      "metadata": {
        "id": "2--QEBkx6iDr"
      }
    },
    {
      "cell_type": "code",
      "source": [
        "import numpy as np\n",
        "A = np.array([[0, 1],\n",
        "              [-2, -3]])\n",
        "B = np.array([[1, 0],\n",
        "              [3, -2]])\n",
        "C = np.array([[1, 1],\n",
        "              [1, -5]])\n",
        "print(\"AB Not Equal BA\")\n",
        "L = np.matmul(A,B)\n",
        "print(\"L=\");print(L)\n",
        "R = np.matmul(B,A)\n",
        "print(\"R=\");print(R)\n",
        "     "
      ],
      "metadata": {
        "id": "3pgzbj4v1kHz",
        "colab": {
          "base_uri": "https://localhost:8080/"
        },
        "outputId": "43d27ecc-fdd4-4da6-e6da-7ef65cc412f7"
      },
      "execution_count": null,
      "outputs": [
        {
          "output_type": "stream",
          "name": "stdout",
          "text": [
            "AB Not Equal BA\n",
            "L=\n",
            "[[  3  -2]\n",
            " [-11   6]]\n",
            "R=\n",
            "[[0 1]\n",
            " [4 9]]\n"
          ]
        }
      ]
    },
    {
      "cell_type": "code",
      "source": [
        "print(\"A(BC) = (AB)C\")\n",
        "L = np.matmul(A,np.matmul(B,C))\n",
        "print(\"L=\");print(L)\n",
        "R = np.matmul(np.matmul(A,B),C)\n",
        "print(\"R=\");print(R)"
      ],
      "metadata": {
        "colab": {
          "base_uri": "https://localhost:8080/"
        },
        "id": "YggtPBFtDauv",
        "outputId": "5536941f-ed60-4d84-e483-c03fbeda89a2"
      },
      "execution_count": null,
      "outputs": [
        {
          "output_type": "stream",
          "name": "stdout",
          "text": [
            "A(BC) = (AB)C\n",
            "L=\n",
            "[[  1  13]\n",
            " [ -5 -41]]\n",
            "R=\n",
            "[[  1  13]\n",
            " [ -5 -41]]\n"
          ]
        }
      ]
    },
    {
      "cell_type": "code",
      "source": [
        "import numpy as np\n",
        "import numpy.linalg as la\n",
        "A = np.array([[1, 2],\n",
        "              [3, 4]])\n",
        "b = np.array([[5],\n",
        "              [6]])\n",
        "Ainv = la.inv(A)\n",
        "x = Ainv.dot(b)\n",
        "print(x)"
      ],
      "metadata": {
        "colab": {
          "base_uri": "https://localhost:8080/"
        },
        "id": "i0c3yVBXDjGv",
        "outputId": "64cb125e-a03c-48f6-cc19-6403dd2e85bf"
      },
      "execution_count": null,
      "outputs": [
        {
          "output_type": "stream",
          "name": "stdout",
          "text": [
            "[[-4. ]\n",
            " [ 4.5]]\n"
          ]
        }
      ]
    },
    {
      "cell_type": "code",
      "source": [
        "import numpy as np\n",
        "A = np.array([[1, 2],\n",
        "              [3, 4]])\n",
        "b = np.array([[5],\n",
        "              [6]])\n",
        "x = np.linalg.solve(A, b)\n",
        "print(x)"
      ],
      "metadata": {
        "colab": {
          "base_uri": "https://localhost:8080/"
        },
        "id": "stMTvKlBDraO",
        "outputId": "822675b0-7923-4554-c437-bd10c96ddb47"
      },
      "execution_count": null,
      "outputs": [
        {
          "output_type": "stream",
          "name": "stdout",
          "text": [
            "[[-4. ]\n",
            " [ 4.5]]\n"
          ]
        }
      ]
    },
    {
      "cell_type": "code",
      "source": [
        "import numpy as np\n",
        "A = np.array([[1, 2],\n",
        "              [3, 4],\n",
        "              [7, 8]])\n",
        "b = np.array([[5],\n",
        "              [6],\n",
        "              [9]])\n",
        "x = np.linalg.lstsq(A, b, rcond=None)[0]\n",
        "print(x)\n",
        "     "
      ],
      "metadata": {
        "colab": {
          "base_uri": "https://localhost:8080/"
        },
        "id": "AXQ5kIb-D29o",
        "outputId": "4a8e108b-d2c8-43e4-a461-46867f5bb217"
      },
      "execution_count": null,
      "outputs": [
        {
          "output_type": "stream",
          "name": "stdout",
          "text": [
            "[[-3.5       ]\n",
            " [ 4.17857143]]\n"
          ]
        }
      ]
    }
  ]
}